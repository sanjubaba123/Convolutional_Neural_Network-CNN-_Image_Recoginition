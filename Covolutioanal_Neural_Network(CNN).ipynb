{
 "cells": [
  {
   "cell_type": "code",
   "execution_count": 65,
   "metadata": {},
   "outputs": [],
   "source": [
    "import keras\n",
    "#for initializing the Convolutional Neural Network(CNN)\n",
    "from keras.models import Sequential\n",
    "#step--->1\n",
    "#for making the convolutional layers.....\n",
    "from keras.layers import Conv2D\n",
    "#step--->2\n",
    "#for maxpooling \n",
    "from keras.layers import MaxPooling2D\n",
    "#step---->3\n",
    "#for Flatting process\n",
    "from keras.layers import Flatten\n",
    "#step----->4\n",
    "#for adding the final layer in CNN\n",
    "from keras.layers import Dense"
   ]
  },
  {
   "cell_type": "code",
   "execution_count": 66,
   "metadata": {},
   "outputs": [
    {
     "name": "stdout",
     "output_type": "stream",
     "text": [
      "/home/abhishek/Downloads/P16-Convolutional-Neural-Networks(1)/Convolutional_Neural_Networks\n"
     ]
    }
   ],
   "source": [
    "cd /home/abhishek/Downloads/P16-Convolutional-Neural-Networks(1)/Convolutional_Neural_Networks"
   ]
  },
  {
   "cell_type": "markdown",
   "metadata": {},
   "source": [
    "# Initializing the Convolutioanl Neyral Network(CNN)"
   ]
  },
  {
   "cell_type": "code",
   "execution_count": 67,
   "metadata": {},
   "outputs": [],
   "source": [
    "\n",
    "classifier=Sequential()"
   ]
  },
  {
   "cell_type": "markdown",
   "metadata": {},
   "source": [
    "### input_shape(64,64,3)---->(64,64) is indicating the size of image and 3 is indicating the dimenision of the image.\n",
    "in maxpooling the pool_size is denoting that we are takking the dimenision for making pooled feature map is 2*2 dimension.\n",
    "Flattening is simply for the flatting the feature pooled map.\n",
    "Now we are adding an output layer for getting output of the CNN\n",
    "Lastly we are compililig the the CNN"
   ]
  },
  {
   "cell_type": "code",
   "execution_count": 68,
   "metadata": {},
   "outputs": [
    {
     "name": "stderr",
     "output_type": "stream",
     "text": [
      "/home/abhishek/anaconda3/lib/python3.6/site-packages/ipykernel_launcher.py:3: UserWarning: Update your `Conv2D` call to the Keras 2 API: `Conv2D(32, (3, 3), activation=\"relu\")`\n",
      "  This is separate from the ipykernel package so we can avoid doing imports until\n"
     ]
    }
   ],
   "source": [
    "classifier.add(Conv2D(32,(3,3),input_shape=(64,64,3),activation='relu'))\n",
    "classifier.add(MaxPooling2D(pool_size=(2,2)))\n",
    "classifier.add(Conv2D(32,3,3,activation='relu'))\n",
    "classifier.add(MaxPooling2D(pool_size=(2,2)))\n",
    "classifier.add(Flatten())\n",
    "classifier.add(Dense(units=1,activation='sigmoid'))\n",
    "classifier.compile(optimizer='adam',loss='binary_crossentropy',metrics=['accuracy'])"
   ]
  },
  {
   "cell_type": "code",
   "execution_count": 69,
   "metadata": {},
   "outputs": [],
   "source": [
    "from keras.preprocessing.image import ImageDataGenerator\n",
    "# importing a class of ImageDatatGenerator for fitting the CNN to images"
   ]
  },
  {
   "cell_type": "code",
   "execution_count": 70,
   "metadata": {},
   "outputs": [
    {
     "name": "stdout",
     "output_type": "stream",
     "text": [
      "Found 8000 images belonging to 2 classes.\n",
      "Found 2000 images belonging to 2 classes.\n",
      "Epoch 1/10\n",
      "200/200 [==============================] - 138s 692ms/step - loss: 0.6814 - acc: 0.5640 - val_loss: 0.6650 - val_acc: 0.5860\n",
      "Epoch 2/10\n",
      "200/200 [==============================] - 113s 564ms/step - loss: 0.6309 - acc: 0.6506 - val_loss: 0.6242 - val_acc: 0.6740\n",
      "Epoch 3/10\n",
      "200/200 [==============================] - 92s 458ms/step - loss: 0.5994 - acc: 0.6796 - val_loss: 0.6002 - val_acc: 0.6740\n",
      "Epoch 4/10\n",
      "200/200 [==============================] - 91s 453ms/step - loss: 0.5698 - acc: 0.7056 - val_loss: 0.5495 - val_acc: 0.7020\n",
      "Epoch 5/10\n",
      "200/200 [==============================] - 91s 453ms/step - loss: 0.5506 - acc: 0.7154 - val_loss: 0.5682 - val_acc: 0.7080\n",
      "Epoch 6/10\n",
      "200/200 [==============================] - 90s 452ms/step - loss: 0.5336 - acc: 0.7314 - val_loss: 0.5156 - val_acc: 0.7480\n",
      "Epoch 7/10\n",
      "200/200 [==============================] - 91s 453ms/step - loss: 0.5244 - acc: 0.7386 - val_loss: 0.4891 - val_acc: 0.7680\n",
      "Epoch 8/10\n",
      "200/200 [==============================] - 91s 453ms/step - loss: 0.5057 - acc: 0.7436 - val_loss: 0.5303 - val_acc: 0.7540\n",
      "Epoch 9/10\n",
      "200/200 [==============================] - 91s 454ms/step - loss: 0.4922 - acc: 0.7576 - val_loss: 0.4793 - val_acc: 0.7900\n",
      "Epoch 10/10\n",
      "200/200 [==============================] - 94s 468ms/step - loss: 0.5077 - acc: 0.7464 - val_loss: 0.6372 - val_acc: 0.7060\n"
     ]
    },
    {
     "data": {
      "text/plain": [
       "<keras.callbacks.History at 0x7fdfaf91db70>"
      ]
     },
     "execution_count": 70,
     "metadata": {},
     "output_type": "execute_result"
    }
   ],
   "source": [
    "train_datagen=ImageDataGenerator(rescale=1./255,\n",
    "                                shear_range=0.2,\n",
    "                                zoom_range=0.2,\n",
    "                                horizontal_flip=True)\n",
    "#rescale is ussing for the rescale the size between 0 to 1 wecaue in neural network scalling is very import....\n",
    "test_datagen=ImageDataGenerator(rescale=1./255)\n",
    "training_set=train_datagen.flow_from_directory('dataset/training_set',\n",
    "                                              target_size=(64,64),\n",
    "                                              batch_size=25,\n",
    "                                              class_mode='binary')\n",
    "test_set=test_datagen.flow_from_directory('dataset/test_set',\n",
    "                                         target_size=(64,64),\n",
    "                                         batch_size=25,\n",
    "                                         class_mode='binary')\n",
    "classifier.fit_generator(training_set,\n",
    "                        steps_per_epoch=200,\n",
    "                        epochs=10,\n",
    "                        validation_data=test_set,\n",
    "                        validation_steps=20)"
   ]
  },
  {
   "cell_type": "code",
   "execution_count": 71,
   "metadata": {},
   "outputs": [
    {
     "data": {
      "image/png": "[encoded data removed]",
      "text/plain": [
       "<PIL.Image.Image image mode=RGB size=64x64 at 0x7FDFAF9376A0>"
      ]
     },
     "execution_count": 71,
     "metadata": {},
     "output_type": "execute_result"
    }
   ],
   "source": [
    "#making some predictionfor cat...\n",
    "import numpy as np\n",
    "from keras.preprocessing import image\n",
    "test_image=image.load_img('dataset/single_prediction/cat_or_dog_2.jpg',target_size=(64,64))\n",
    "test_image"
   ]
  },
  {
   "cell_type": "code",
   "execution_count": 72,
   "metadata": {},
   "outputs": [
    {
     "data": {
      "text/plain": [
       "array([[[239., 239., 239.],\n",
       "        [239., 239., 239.],\n",
       "        [239., 239., 239.],\n",
       "        ...,\n",
       "        [245., 245., 245.],\n",
       "        [245., 245., 245.],\n",
       "        [245., 245., 245.]],\n",
       "\n",
       "       [[239., 239., 239.],\n",
       "        [239., 239., 239.],\n",
       "        [239., 239., 239.],\n",
       "        ...,\n",
       "        [245., 245., 245.],\n",
       "        [245., 245., 245.],\n",
       "        [244., 244., 244.]],\n",
       "\n",
       "       [[239., 239., 239.],\n",
       "        [239., 239., 239.],\n",
       "        [239., 239., 239.],\n",
       "        ...,\n",
       "        [244., 244., 244.],\n",
       "        [244., 244., 244.],\n",
       "        [244., 244., 244.]],\n",
       "\n",
       "       ...,\n",
       "\n",
       "       [[241., 217., 205.],\n",
       "        [243., 220., 206.],\n",
       "        [241., 219., 205.],\n",
       "        ...,\n",
       "        [227., 200., 181.],\n",
       "        [233., 205., 191.],\n",
       "        [232., 215., 197.]],\n",
       "\n",
       "       [[255., 237., 227.],\n",
       "        [251., 234., 227.],\n",
       "        [252., 235., 227.],\n",
       "        ...,\n",
       "        [219., 193., 178.],\n",
       "        [219., 193., 180.],\n",
       "        [216., 189., 172.]],\n",
       "\n",
       "       [[243., 230., 222.],\n",
       "        [250., 235., 228.],\n",
       "        [246., 231., 226.],\n",
       "        ...,\n",
       "        [203., 180., 164.],\n",
       "        [220., 198., 177.],\n",
       "        [225., 202., 186.]]], dtype=float32)"
      ]
     },
     "execution_count": 72,
     "metadata": {},
     "output_type": "execute_result"
    }
   ],
   "source": [
    "test_image=image.img_to_array(test_image)\n",
    "test_image"
   ]
  },
  {
   "cell_type": "code",
   "execution_count": 73,
   "metadata": {},
   "outputs": [
    {
     "data": {
      "text/plain": [
       "array([[[[239., 239., 239.],\n",
       "         [239., 239., 239.],\n",
       "         [239., 239., 239.],\n",
       "         ...,\n",
       "         [245., 245., 245.],\n",
       "         [245., 245., 245.],\n",
       "         [245., 245., 245.]],\n",
       "\n",
       "        [[239., 239., 239.],\n",
       "         [239., 239., 239.],\n",
       "         [239., 239., 239.],\n",
       "         ...,\n",
       "         [245., 245., 245.],\n",
       "         [245., 245., 245.],\n",
       "         [244., 244., 244.]],\n",
       "\n",
       "        [[239., 239., 239.],\n",
       "         [239., 239., 239.],\n",
       "         [239., 239., 239.],\n",
       "         ...,\n",
       "         [244., 244., 244.],\n",
       "         [244., 244., 244.],\n",
       "         [244., 244., 244.]],\n",
       "\n",
       "        ...,\n",
       "\n",
       "        [[241., 217., 205.],\n",
       "         [243., 220., 206.],\n",
       "         [241., 219., 205.],\n",
       "         ...,\n",
       "         [227., 200., 181.],\n",
       "         [233., 205., 191.],\n",
       "         [232., 215., 197.]],\n",
       "\n",
       "        [[255., 237., 227.],\n",
       "         [251., 234., 227.],\n",
       "         [252., 235., 227.],\n",
       "         ...,\n",
       "         [219., 193., 178.],\n",
       "         [219., 193., 180.],\n",
       "         [216., 189., 172.]],\n",
       "\n",
       "        [[243., 230., 222.],\n",
       "         [250., 235., 228.],\n",
       "         [246., 231., 226.],\n",
       "         ...,\n",
       "         [203., 180., 164.],\n",
       "         [220., 198., 177.],\n",
       "         [225., 202., 186.]]]], dtype=float32)"
      ]
     },
     "execution_count": 73,
     "metadata": {},
     "output_type": "execute_result"
    }
   ],
   "source": [
    "test_image=np.expand_dims(test_image,axis=0)\n",
    "test_image"
   ]
  },
  {
   "cell_type": "code",
   "execution_count": 74,
   "metadata": {},
   "outputs": [
    {
     "data": {
      "text/plain": [
       "array([[2.4241698e-10]], dtype=float32)"
      ]
     },
     "execution_count": 74,
     "metadata": {},
     "output_type": "execute_result"
    }
   ],
   "source": [
    "result=classifier.predict(test_image)\n",
    "result"
   ]
  },
  {
   "cell_type": "code",
   "execution_count": 75,
   "metadata": {},
   "outputs": [
    {
     "data": {
      "text/plain": [
       "{'cats': 0, 'dogs': 1}"
      ]
     },
     "execution_count": 75,
     "metadata": {},
     "output_type": "execute_result"
    }
   ],
   "source": [
    "training_set.class_indices"
   ]
  },
  {
   "cell_type": "code",
   "execution_count": 76,
   "metadata": {},
   "outputs": [
    {
     "name": "stdout",
     "output_type": "stream",
     "text": [
      "cat\n"
     ]
    }
   ],
   "source": [
    "if result[0][0]==1:\n",
    "    print('dog')\n",
    "else:\n",
    "    print('cat')"
   ]
  },
  {
   "cell_type": "code",
   "execution_count": 77,
   "metadata": {},
   "outputs": [
    {
     "data": {
      "image/png": "[encoded data removed]",
      "text/plain": [
       "<PIL.Image.Image image mode=RGB size=64x64 at 0x7FDFAF569860>"
      ]
     },
     "execution_count": 77,
     "metadata": {},
     "output_type": "execute_result"
    }
   ],
   "source": [
    "#making prediction for cat\n",
    "# making prediction for dog....\n",
    "import numpy as np\n",
    "from keras.preprocessing import image\n",
    "test_image=image.load_img('dataset/single_prediction/cat_or_dog_1.jpg',target_size=(64,64))\n",
    "test_image"
   ]
  },
  {
   "cell_type": "code",
   "execution_count": 78,
   "metadata": {},
   "outputs": [
    {
     "data": {
      "text/plain": [
       "array([[[ 54.,  58.,   7.],\n",
       "        [ 58.,  63.,   9.],\n",
       "        [ 64.,  67.,  10.],\n",
       "        ...,\n",
       "        [136., 144.,  71.],\n",
       "        [140., 150.,  77.],\n",
       "        [139., 149.,  78.]],\n",
       "\n",
       "       [[ 48.,  54.,   6.],\n",
       "        [ 51.,  58.,   7.],\n",
       "        [ 58.,  63.,   9.],\n",
       "        ...,\n",
       "        [129., 137.,  64.],\n",
       "        [139., 149.,  78.],\n",
       "        [141., 151.,  80.]],\n",
       "\n",
       "       [[ 48.,  56.,   7.],\n",
       "        [ 48.,  56.,   7.],\n",
       "        [ 54.,  61.,  10.],\n",
       "        ...,\n",
       "        [123., 130.,  63.],\n",
       "        [136., 145.,  80.],\n",
       "        [140., 149.,  82.]],\n",
       "\n",
       "       ...,\n",
       "\n",
       "       [[ 46.,  55.,  12.],\n",
       "        [ 42.,  50.,   9.],\n",
       "        [ 38.,  49.,   9.],\n",
       "        ...,\n",
       "        [239., 205., 170.],\n",
       "        [235., 209., 186.],\n",
       "        [229., 202., 173.]],\n",
       "\n",
       "       [[ 50.,  57.,  15.],\n",
       "        [ 42.,  50.,   9.],\n",
       "        [ 44.,  52.,  11.],\n",
       "        ...,\n",
       "        [234., 200., 162.],\n",
       "        [236., 206., 178.],\n",
       "        [234., 203., 174.]],\n",
       "\n",
       "       [[ 53.,  59.,  13.],\n",
       "        [ 43.,  51.,  10.],\n",
       "        [ 49.,  56.,  12.],\n",
       "        ...,\n",
       "        [231., 195., 159.],\n",
       "        [235., 213., 190.],\n",
       "        [233., 206., 179.]]], dtype=float32)"
      ]
     },
     "execution_count": 78,
     "metadata": {},
     "output_type": "execute_result"
    }
   ],
   "source": [
    "test_image=image.img_to_array(test_image)\n",
    "test_image"
   ]
  },
  {
   "cell_type": "code",
   "execution_count": 79,
   "metadata": {},
   "outputs": [
    {
     "data": {
      "text/plain": [
       "array([[[[ 54.,  58.,   7.],\n",
       "         [ 58.,  63.,   9.],\n",
       "         [ 64.,  67.,  10.],\n",
       "         ...,\n",
       "         [136., 144.,  71.],\n",
       "         [140., 150.,  77.],\n",
       "         [139., 149.,  78.]],\n",
       "\n",
       "        [[ 48.,  54.,   6.],\n",
       "         [ 51.,  58.,   7.],\n",
       "         [ 58.,  63.,   9.],\n",
       "         ...,\n",
       "         [129., 137.,  64.],\n",
       "         [139., 149.,  78.],\n",
       "         [141., 151.,  80.]],\n",
       "\n",
       "        [[ 48.,  56.,   7.],\n",
       "         [ 48.,  56.,   7.],\n",
       "         [ 54.,  61.,  10.],\n",
       "         ...,\n",
       "         [123., 130.,  63.],\n",
       "         [136., 145.,  80.],\n",
       "         [140., 149.,  82.]],\n",
       "\n",
       "        ...,\n",
       "\n",
       "        [[ 46.,  55.,  12.],\n",
       "         [ 42.,  50.,   9.],\n",
       "         [ 38.,  49.,   9.],\n",
       "         ...,\n",
       "         [239., 205., 170.],\n",
       "         [235., 209., 186.],\n",
       "         [229., 202., 173.]],\n",
       "\n",
       "        [[ 50.,  57.,  15.],\n",
       "         [ 42.,  50.,   9.],\n",
       "         [ 44.,  52.,  11.],\n",
       "         ...,\n",
       "         [234., 200., 162.],\n",
       "         [236., 206., 178.],\n",
       "         [234., 203., 174.]],\n",
       "\n",
       "        [[ 53.,  59.,  13.],\n",
       "         [ 43.,  51.,  10.],\n",
       "         [ 49.,  56.,  12.],\n",
       "         ...,\n",
       "         [231., 195., 159.],\n",
       "         [235., 213., 190.],\n",
       "         [233., 206., 179.]]]], dtype=float32)"
      ]
     },
     "execution_count": 79,
     "metadata": {},
     "output_type": "execute_result"
    }
   ],
   "source": [
    "test_image=np.expand_dims(test_image,axis=0)\n",
    "test_image"
   ]
  },
  {
   "cell_type": "code",
   "execution_count": 80,
   "metadata": {},
   "outputs": [
    {
     "data": {
      "text/plain": [
       "array([[1.]], dtype=float32)"
      ]
     },
     "execution_count": 80,
     "metadata": {},
     "output_type": "execute_result"
    }
   ],
   "source": [
    "result=classifier.predict(test_image)\n",
    "result"
   ]
  },
  {
   "cell_type": "code",
   "execution_count": 81,
   "metadata": {},
   "outputs": [
    {
     "name": "stdout",
     "output_type": "stream",
     "text": [
      "dog\n"
     ]
    }
   ],
   "source": [
    "if result[0][0]==1:\n",
    "    print('dog')\n",
    "else:\n",
    "    print('cat')"
   ]
  },
  {
   "cell_type": "code",
   "execution_count": null,
   "metadata": {},
   "outputs": [],
   "source": []
  }
 ],
 "metadata": {
  "kernelspec": {
   "display_name": "Python 3",
   "language": "python",
   "name": "python3"
  },
  "language_info": {
   "codemirror_mode": {
    "name": "ipython",
    "version": 3
   },
   "file_extension": ".py",
   "mimetype": "text/x-python",
   "name": "python",
   "nbconvert_exporter": "python",
   "pygments_lexer": "ipython3",
   "version": "3.6.5"
  }
 },
 "nbformat": 4,
 "nbformat_minor": 2
}
